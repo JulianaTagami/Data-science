{
  "nbformat": 4,
  "nbformat_minor": 0,
  "metadata": {
    "colab": {
      "provenance": [],
      "collapsed_sections": [
        "HePpkTnBFLdZ"
      ],
      "authorship_tag": "ABX9TyMq5vZbhzqCTIa5WVR2TQec",
      "include_colab_link": true
    },
    "kernelspec": {
      "name": "python3",
      "display_name": "Python 3"
    },
    "language_info": {
      "name": "python"
    }
  },
  "cells": [
    {
      "cell_type": "markdown",
      "metadata": {
        "id": "view-in-github",
        "colab_type": "text"
      },
      "source": [
        "<a href=\"https://colab.research.google.com/github/JulianaTagami/Data-science/blob/main/Logica_de_Programacao.ipynb\" target=\"_parent\"><img src=\"https://colab.research.google.com/assets/colab-badge.svg\" alt=\"Open In Colab\"/></a>"
      ]
    },
    {
      "cell_type": "markdown",
      "source": [
        "# Programming logic\n"
      ],
      "metadata": {
        "id": "EFM2yXrmE5eV"
      }
    },
    {
      "cell_type": "code",
      "execution_count": null,
      "metadata": {
        "id": "DA7DRrCi_us-"
      },
      "outputs": [],
      "source": [
        "name = 'Juliana'"
      ]
    },
    {
      "cell_type": "code",
      "source": [
        "year = 33 "
      ],
      "metadata": {
        "id": "_F22P6yDB5hc"
      },
      "execution_count": null,
      "outputs": []
    },
    {
      "cell_type": "code",
      "source": [
        "print(f'The name is {name} and your age is {year} years old')"
      ],
      "metadata": {
        "colab": {
          "base_uri": "https://localhost:8080/"
        },
        "id": "asS13hjqEL-n",
        "outputId": "8a8e21ea-2fcc-450c-beca-0edeb017cef7"
      },
      "execution_count": null,
      "outputs": [
        {
          "output_type": "stream",
          "name": "stdout",
          "text": [
            "The name is Juliana and your age is 33 years old\n"
          ]
        }
      ]
    },
    {
      "cell_type": "markdown",
      "source": [
        "## Creating my first function\n"
      ],
      "metadata": {
        "id": "HePpkTnBFLdZ"
      }
    },
    {
      "cell_type": "code",
      "source": [
        "def greeting():\n",
        "  name = input('What is your name? ')\n",
        "  print(f'Hello {name}')\n"
      ],
      "metadata": {
        "id": "IgR43j4oFSZK"
      },
      "execution_count": null,
      "outputs": []
    },
    {
      "cell_type": "code",
      "source": [
        "greeting()\n"
      ],
      "metadata": {
        "colab": {
          "base_uri": "https://localhost:8080/"
        },
        "id": "7mxpauk2Ishb",
        "outputId": "4cb12035-30e5-449f-ec96-97315e0005ad"
      },
      "execution_count": null,
      "outputs": [
        {
          "output_type": "stream",
          "name": "stdout",
          "text": [
            "What is your name?  Juliana\n",
            "Hello Juliana\n"
          ]
        }
      ]
    },
    {
      "cell_type": "code",
      "source": [],
      "metadata": {
        "id": "W2Cvv3FMIwHi"
      },
      "execution_count": null,
      "outputs": []
    }
  ]
}