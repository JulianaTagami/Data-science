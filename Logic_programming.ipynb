{
  "nbformat": 4,
  "nbformat_minor": 0,
  "metadata": {
    "colab": {
      "provenance": [],
      "collapsed_sections": [
        "EFM2yXrmE5eV",
        "HePpkTnBFLdZ",
        "dkOruU_Hv7q8",
        "hn-_qse313lZ"
      ],
      "authorship_tag": "ABX9TyMfmtNIa6C17/DfvlkG2Vog",
      "include_colab_link": true
    },
    "kernelspec": {
      "name": "python3",
      "display_name": "Python 3"
    },
    "language_info": {
      "name": "python"
    }
  },
  "cells": [
    {
      "cell_type": "markdown",
      "metadata": {
        "id": "view-in-github",
        "colab_type": "text"
      },
      "source": [
        "<a href=\"https://colab.research.google.com/github/JulianaTagami/Data-science/blob/main/Logic_programming.ipynb\" target=\"_parent\"><img src=\"https://colab.research.google.com/assets/colab-badge.svg\" alt=\"Open In Colab\"/></a>"
      ]
    },
    {
      "cell_type": "markdown",
      "source": [
        "# Programming logic - test\n"
      ],
      "metadata": {
        "id": "EFM2yXrmE5eV"
      }
    },
    {
      "cell_type": "code",
      "execution_count": null,
      "metadata": {
        "id": "DA7DRrCi_us-"
      },
      "outputs": [],
      "source": [
        "name = 'Juliana'"
      ]
    },
    {
      "cell_type": "code",
      "source": [
        "year = 33 "
      ],
      "metadata": {
        "id": "_F22P6yDB5hc"
      },
      "execution_count": null,
      "outputs": []
    },
    {
      "cell_type": "code",
      "source": [
        "print(f'The name is {name} and your age is {year} years old')"
      ],
      "metadata": {
        "colab": {
          "base_uri": "https://localhost:8080/"
        },
        "id": "asS13hjqEL-n",
        "outputId": "8a8e21ea-2fcc-450c-beca-0edeb017cef7"
      },
      "execution_count": null,
      "outputs": [
        {
          "output_type": "stream",
          "name": "stdout",
          "text": [
            "The name is Juliana and your age is 33 years old\n"
          ]
        }
      ]
    },
    {
      "cell_type": "markdown",
      "source": [
        "# Creating my first function\n"
      ],
      "metadata": {
        "id": "HePpkTnBFLdZ"
      }
    },
    {
      "cell_type": "code",
      "source": [
        "def greeting():\n",
        "  name = input('What is your name? ')\n",
        "  print(f'Hello {name}')\n"
      ],
      "metadata": {
        "id": "IgR43j4oFSZK"
      },
      "execution_count": null,
      "outputs": []
    },
    {
      "cell_type": "code",
      "source": [
        "greeting()\n"
      ],
      "metadata": {
        "colab": {
          "base_uri": "https://localhost:8080/"
        },
        "id": "7mxpauk2Ishb",
        "outputId": "4cb12035-30e5-449f-ec96-97315e0005ad"
      },
      "execution_count": null,
      "outputs": [
        {
          "output_type": "stream",
          "name": "stdout",
          "text": [
            "What is your name?  Juliana\n",
            "Hello Juliana\n"
          ]
        }
      ]
    },
    {
      "cell_type": "code",
      "source": [
        "def full_name():\n",
        " first_name = input('What is your first name? ')\n",
        " last_name = input('What is your last name? ')\n",
        " complete_name = first_name + ' ' + last_name\n",
        " print(complete_name)\n",
        "\n",
        "full_name()\n",
        "\n"
      ],
      "metadata": {
        "id": "W2Cvv3FMIwHi",
        "colab": {
          "base_uri": "https://localhost:8080/"
        },
        "outputId": "8f7bbeb1-6be3-452f-cf13-c796efe0bc28"
      },
      "execution_count": null,
      "outputs": [
        {
          "output_type": "stream",
          "name": "stdout",
          "text": [
            "What is your first name? Juliana\n",
            "What is your last name? Souza\n",
            "Juliana Souza\n"
          ]
        }
      ]
    },
    {
      "cell_type": "markdown",
      "source": [
        "#Parameters\n",
        "\n"
      ],
      "metadata": {
        "id": "dkOruU_Hv7q8"
      }
    },
    {
      "cell_type": "code",
      "source": [
        "name = 'Juliana'"
      ],
      "metadata": {
        "id": "qe0Hw307ynqL"
      },
      "execution_count": null,
      "outputs": []
    },
    {
      "cell_type": "code",
      "source": [
        "def with_parameters(person_name):\n",
        "  print(f'Hello {person_name}')"
      ],
      "metadata": {
        "id": "NhtSeTWFyvPd"
      },
      "execution_count": null,
      "outputs": []
    },
    {
      "cell_type": "code",
      "source": [
        "with_parameters(name)"
      ],
      "metadata": {
        "colab": {
          "base_uri": "https://localhost:8080/"
        },
        "id": "EA7A9bFy0XNu",
        "outputId": "6cf09b22-1cb6-425c-8cd7-5639ce73a177"
      },
      "execution_count": null,
      "outputs": [
        {
          "output_type": "stream",
          "name": "stdout",
          "text": [
            "Hello Juliana\n"
          ]
        }
      ]
    },
    {
      "cell_type": "markdown",
      "source": [
        "#Conditional - *IF* and *Else*"
      ],
      "metadata": {
        "id": "hn-_qse313lZ"
      }
    },
    {
      "cell_type": "code",
      "source": [
        "age = 12 \n",
        "\n",
        "def can_drive_parameters(age):\n",
        "  if age >= 18:\n",
        "    print('You have permission to drive')\n",
        "  else:\n",
        "    print('You don not have permission to drive.')\n",
        "    \n",
        "can_drive_parameters(age)"
      ],
      "metadata": {
        "colab": {
          "base_uri": "https://localhost:8080/"
        },
        "id": "2WTy3Yyy17oS",
        "outputId": "7216da34-3539-4983-f163-a728c4e902d4"
      },
      "execution_count": null,
      "outputs": [
        {
          "output_type": "stream",
          "name": "stdout",
          "text": [
            "You are not allowed to drive\n"
          ]
        }
      ]
    },
    {
      "cell_type": "markdown",
      "source": [],
      "metadata": {
        "id": "9qyTicCj8jwg"
      }
    }
  ]
}